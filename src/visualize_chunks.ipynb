{
 "cells": [
  {
   "cell_type": "code",
   "execution_count": null,
   "id": "4b647b79",
   "metadata": {},
   "outputs": [],
   "source": [
    "import numpy as np\n",
    "import matplotlib.pyplot as plt\n",
    "import librosa\n",
    "import json\n",
    "%matplotlib inline\n",
    "\n",
    "sounds = []\n",
    "for i in range(4):\n",
    "    file_name = f\"../problems/problem{i+1}.wav\"\n",
    "    sound = librosa.load(file_name, sr=45000, mono=True)\n",
    "    sounds.append(list(sound[0]))\n",
    "\n",
    "sounds_ = np.array([x for row in sounds for x in row])\n",
    "size = len(sounds_)\n",
    "t = np.linspace(0, size / 45000, size)\n",
    "plt.plot(t, sounds_, c=\"red\")\n",
    "plt.show()"
   ]
  }
 ],
 "metadata": {
  "kernelspec": {
   "display_name": "Python 3",
   "language": "python",
   "name": "python3"
  },
  "language_info": {
   "codemirror_mode": {
    "name": "ipython",
    "version": 3
   },
   "file_extension": ".py",
   "mimetype": "text/x-python",
   "name": "python",
   "nbconvert_exporter": "python",
   "pygments_lexer": "ipython3",
   "version": "3.8.8"
  }
 },
 "nbformat": 4,
 "nbformat_minor": 5
}
