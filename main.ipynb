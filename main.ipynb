{
 "cells": [
  {
   "cell_type": "markdown",
   "id": "eccb076d",
   "metadata": {},
   "source": [
    "## 本番用スクリプト\n",
    "(一応)ユーザーインタフェースです。"
   ]
  },
  {
   "cell_type": "code",
   "execution_count": null,
   "id": "551b0254",
   "metadata": {},
   "outputs": [],
   "source": [
    "# ライブラリ読み込み\n",
    "import numpy as np\n",
    "import matplotlib.pyplot as plt\n",
    "import librosa\n",
    "import json\n",
    "from pydub import AudioSegment\n",
    "from IPython.display import Audio\n",
    "%matplotlib inline\n",
    "\n",
    "from typing import List, Union\n",
    "from modules.functions import *\n",
    "from modules.network_interface import *\n",
    "\n",
    "# セットアップ\n",
    "sampling_rate = 50000\n",
    "ja_sounds = load_audios('J', sampling_rate)\n",
    "en_sounds = load_audios('E', sampling_rate)\n",
    "submitted_answers = []\n",
    "\n",
    "print(\"Done\")"
   ]
  },
  {
   "cell_type": "markdown",
   "id": "93d72bbc",
   "metadata": {},
   "source": [
    "---\n",
    "##### ここまで済ませておく\n",
    "---"
   ]
  },
  {
   "cell_type": "code",
   "execution_count": null,
   "id": "a549a389",
   "metadata": {
    "scrolled": true
   },
   "outputs": [],
   "source": [
    "# 試合情報の取得\n",
    "match = await get_match()\n",
    "print(match)"
   ]
  },
  {
   "cell_type": "code",
   "execution_count": null,
   "id": "c8d5f462",
   "metadata": {},
   "outputs": [],
   "source": [
    "# 問題情報の取得\n",
    "problem = await get_problem()\n",
    "print(problem)"
   ]
  },
  {
   "cell_type": "code",
   "execution_count": null,
   "id": "adc9207c",
   "metadata": {},
   "outputs": [],
   "source": [
    "# 取得する分割データ数\n",
    "N = 3\n",
    "    \n",
    "# 取得する分割データの指定\n",
    "chunks = await get_chunks(N)\n",
    "print(chunks)\n",
    "\n",
    "# wavの取得\n",
    "file_path = \"./problems/\"\n",
    "chunks = (await get_chunk(N))[\"chunks\"]\n",
    "for chunk in chunks:\n",
    "    await get_file(chunk, file_path)"
   ]
  },
  {
   "cell_type": "code",
   "execution_count": null,
   "id": "8c2cb637",
   "metadata": {},
   "outputs": [],
   "source": [
    "# 分割データ連結(分割データを最大量取るならchunks.pop(), そうでなければchunks.pop(0))\n",
    "seg = to_AudioSegment(file_path + chunks.pop(0))[100:]\n",
    "if N > 1:\n",
    "    for chunk in chunks:\n",
    "        seg += to_AudioSegment(file_path + chunk)[0:]\n",
    "    \n",
    "file_name = \"./problems/tmp.wav\"\n",
    "seg.export(file_name, format=\"wav\")\n",
    "origin = load_audio(file_name, sampling_rate)\n",
    "\n",
    "## 音源再生\n",
    "# Audio(file_name, rate=sampling_rate)"
   ]
  },
  {
   "cell_type": "code",
   "execution_count": null,
   "id": "4f715921",
   "metadata": {},
   "outputs": [],
   "source": [
    "# 畳み込み(英語も含むか決める)\n",
    "precision = [get_precision(origin, sound)\n",
    "             for sound in ja_sounds + en_sounds]"
   ]
  },
  {
   "cell_type": "code",
   "execution_count": null,
   "id": "e5a5d749",
   "metadata": {},
   "outputs": [],
   "source": [
    "# ソート\n",
    "answers = []\n",
    "for i in np.argsort(precision)[::-1][:5]:\n",
    "    print((i % 44) + 1, precision[i])\n",
    "    answers.append((i % 44) + 1)\n",
    "\n",
    "answers = sorted(list(set(answers)))\n",
    "print(answers)\n",
    "print([number_to_kana(n) for n in answers])"
   ]
  },
  {
   "cell_type": "code",
   "execution_count": null,
   "id": "c363ea59",
   "metadata": {},
   "outputs": [],
   "source": [
    "# 提出\n",
    "formatted_answer = list(map(lambda n: f\"{n:02d}\", answers))\n",
    "res = await answer(problem[\"id\"], formatted_answer)\n",
    "\n",
    "print(formatted_answer)\n",
    "print(res)\n",
    "\n",
    "submitted_answers.append(res[\"answers\"])\n",
    "print(submitted)"
   ]
  }
 ],
 "metadata": {
  "kernelspec": {
   "display_name": "Python 3",
   "language": "python",
   "name": "python3"
  },
  "language_info": {
   "codemirror_mode": {
    "name": "ipython",
    "version": 3
   },
   "file_extension": ".py",
   "mimetype": "text/x-python",
   "name": "python",
   "nbconvert_exporter": "python",
   "pygments_lexer": "ipython3",
   "version": "3.8.8"
  }
 },
 "nbformat": 4,
 "nbformat_minor": 5
}
