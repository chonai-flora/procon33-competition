{
 "cells": [
  {
   "cell_type": "code",
   "execution_count": null,
   "id": "bcb82532",
   "metadata": {},
   "outputs": [],
   "source": [
    "!pip install librosa"
   ]
  },
  {
   "cell_type": "code",
   "execution_count": 1,
   "id": "8619fae3",
   "metadata": {},
   "outputs": [],
   "source": [
    "# 音源の読み込み\n",
    "import numpy as np\n",
    "import matplotlib.pyplot as plt\n",
    "import librosa\n",
    "import glob\n",
    "import json\n",
    "%matplotlib inline\n",
    "\n",
    "# # 音源の読み込み\n",
    "# fname = \"../Q00001_ja.wav\"\n",
    "# sound = librosa.load(fname, sr=44100, mono=True)  # mono\n",
    "# # print(tyoe(sound))\n",
    "\n",
    "# wav_Origin = sound[0]\n",
    "# size = len(wav_Origin)\n",
    "# fr = sound[1]\n",
    "# print(fr, len(wav_Origin) / fr)\n",
    "\n",
    "# # グラフ化\n",
    "# t = np.linspace(0, size / fr, len(wav_Origin))\n",
    "# plt.plot(t, wav_Origin, c=\"red\")\n",
    "# plt.show()"
   ]
  },
  {
   "cell_type": "code",
   "execution_count": null,
   "id": "aeb0aa2b",
   "metadata": {},
   "outputs": [],
   "source": [
    "# 再生\n",
    "from IPython.display import Audio\n",
    "Audio(fname, rate=fr)"
   ]
  },
  {
   "cell_type": "code",
   "execution_count": null,
   "id": "58d9e97d",
   "metadata": {},
   "outputs": [],
   "source": [
    "# # 音源の読み込み\n",
    "# import numpy as np\n",
    "# import matplotlib.pyplot as plt\n",
    "# import librosa\n",
    "# %matplotlib inline\n",
    "\n",
    "# # 音源の読み込み\n",
    "# fname2 = \"./JKspeech/J01.wav\"  # 片側が強い\n",
    "# sound = librosa.load(fname2, sr=44100, mono=True)  # mono\n",
    "# wav_Target = sound[0]\n",
    "# size = len(wav_Target)\n",
    "# fr = sound[1]\n",
    "# print(fr, len(wav_Target), len(wav_Target) / fr)\n",
    "\n",
    "# # グラフ化\n",
    "# t = np.linspace(0, size / fr, len(wav_Target))\n",
    "# plt.plot(t, wav_Target, c=\"blue\")\n",
    "# plt.show()"
   ]
  },
  {
   "cell_type": "code",
   "execution_count": null,
   "id": "d240e77a",
   "metadata": {},
   "outputs": [],
   "source": [
    "# # option\n",
    "# # 再生\n",
    "# from IPython.display import Audio\n",
    "# Audio(fname2, rate=fr)"
   ]
  },
  {
   "cell_type": "code",
   "execution_count": null,
   "id": "e7ef01ec",
   "metadata": {},
   "outputs": [],
   "source": [
    "# for i in range(1, 45):\n",
    "#     fname2 = f\"./JKspeech/J{i:02d}.wav\"  # 片側が強い\n",
    "#     sound = librosa.load(fname2, sr=44100, mono=True)  # mono\n",
    "#     wav_Target = sound[0]\n",
    "    \n",
    "#     # サイズ調整\n",
    "#     min_ = np.min([len(wav_Origin), len(wav_Target)])\n",
    "#     wav_Target = wav_Target[:min_]\n",
    "#     wav_Origin = wav_Origin[:min_]\n",
    "    \n",
    "#     # フーリエ変換\n",
    "#     fft_O = np.fft.fft(wav_Origin)\n",
    "#     fft_T = np.fft.fft(wav_Target)\n",
    "\n",
    "#     # 畳み込み処理の本体\n",
    "#     fft_Oc = np.conj(fft_O)     # 複素共役を取る\n",
    "#     sig_c = fft_Oc * fft_T      # 要素ごとに乗算\n",
    "#     sig_t = np.fft.ifft(sig_c)  # 逆フーリエ変換\n",
    "#     sig_t = np.abs(sig_t)       # そのままでは複素数なので、スカラー値にする\n",
    "    \n",
    "#     print(i, max(sig_t))"
   ]
  },
  {
   "cell_type": "code",
   "execution_count": null,
   "id": "be89d846",
   "metadata": {},
   "outputs": [],
   "source": [
    "# def fft_targets(wav_Targets):\n",
    "#     targets = []\n",
    "#     for wav_target in wav_Targets:\n",
    "#         fft_T = np.fft.fft(wav_target)\n",
    "#         targets.append(fft_T)\n",
    "\n",
    "#     return targets"
   ]
  },
  {
   "cell_type": "code",
   "execution_count": 17,
   "id": "5e593f41",
   "metadata": {},
   "outputs": [
    {
     "name": "stdout",
     "output_type": "stream",
     "text": [
      "Done\n"
     ]
    }
   ],
   "source": [
    "audio_dir = '../JKspeech/'\n",
    "fnames = glob.glob(f'{audio_dir}/J*.wav')\n",
    "sounds = []\n",
    "for fname in fnames:\n",
    "    sounds.append(librosa.load(fname, sr=48000, mono=True)[0])\n",
    "    \n",
    "print(\"Done\")"
   ]
  },
  {
   "cell_type": "code",
   "execution_count": 18,
   "id": "d9712216",
   "metadata": {},
   "outputs": [],
   "source": [
    "def audio_matching(wav_Origin_init, wav_Targets_init):\n",
    "    result = []\n",
    "    for i, wav_Target_init in enumerate(wav_Targets_init):\n",
    "        # サイズ調整\n",
    "        min_ = np.min([len(wav_Origin_init), len(wav_Target_init)])\n",
    "        wav_Target = wav_Target_init[:min_]\n",
    "        wav_Origin = wav_Origin_init[:min_]\n",
    "    \n",
    "        # フーリエ変換\n",
    "        fft_O = np.fft.fft(wav_Origin)\n",
    "        fft_T = np.fft.fft(wav_Target)\n",
    "        \n",
    "        # 畳み込み処理の本体\n",
    "        fft_Oc = np.conj(fft_O)     # 複素共役を取る\n",
    "        sig_c = fft_Oc * fft_T     # 要素ごとに乗算\n",
    "        sig_t = np.fft.ifft(sig_c)  # 逆フーリエ変換\n",
    "        sig_t = np.abs(sig_t)       # そのままでは複素数なので、スカラー値にする\n",
    "        result.append(np.max(sig_t))\n",
    "        \n",
    "    return np.array(result)\n",
    "\n",
    "# def eval_result(or_lab, predict):\n",
    "    "
   ]
  },
  {
   "cell_type": "code",
   "execution_count": 19,
   "id": "997036ce",
   "metadata": {},
   "outputs": [
    {
     "name": "stdout",
     "output_type": "stream",
     "text": [
      "Done\n"
     ]
    }
   ],
   "source": [
    "q_id = \"Q050_ja\"\n",
    "fname = f\"../questions_ja/{q_id}.wav\"\n",
    "sound = librosa.load(fname, sr=48000, mono=True)[0]  # mono\n",
    "\n",
    "# size = len(sound)\n",
    "# fr = sound[1]\n",
    "# print(fr, len(sound) / fr)\n",
    "# t = np.linspace(0, size / fr, len(sound))\n",
    "# plt.plot(t, sound, c=\"red\")\n",
    "# plt.show()\n",
    "\n",
    "result = audio_matching(sound, sounds)\n",
    "print(\"Done\")"
   ]
  },
  {
   "cell_type": "code",
   "execution_count": 59,
   "id": "17033f1b",
   "metadata": {},
   "outputs": [
    {
     "name": "stdout",
     "output_type": "stream",
     "text": [
      "{'length': 6, 'correct_numbers': [14, 15, 21, 26, 29, 42]}\n"
     ]
    }
   ],
   "source": [
    "f = open('../questions_ja/metadata.json','r',encoding=\"utf-8_sig\")\n",
    "data = json.load(f)\n",
    "# print(len(data))\n",
    "metadata = data[q_id]\n",
    "print(metadata)\n",
    "f.close()"
   ]
  },
  {
   "cell_type": "code",
   "execution_count": 60,
   "id": "d7694e7c",
   "metadata": {},
   "outputs": [
    {
     "name": "stdout",
     "output_type": "stream",
     "text": [
      "14 241.08933469466865\n",
      "8 197.31909599434584\n",
      "21 183.3268370367587\n",
      "30 152.9635336017236\n",
      "28 151.863135850057\n",
      "22 151.0702113090083\n",
      "\n",
      "問題ナンバー: Q050_ja\n",
      "正答: [14, 15, 21, 26, 29, 42]\n",
      "回答: [8, 14, 21, 22, 28, 30]\n",
      "一致: [14, 21]\n",
      "不足: [15, 26, 29, 42]\n",
      "正答率: 33.33%\n"
     ]
    }
   ],
   "source": [
    "answer = []\n",
    "for i in np.argsort(result)[::-1][:metadata['length']]:\n",
    "    print(i+1, result[i])\n",
    "    answer.append(i+1)\n",
    "\n",
    "correct_numbers = metadata['correct_numbers']\n",
    "correct_numbers_set = set(correct_numbers)\n",
    "matches = sorted(set(answer) & set(correct_numbers_set))\n",
    "shortages = [n for n in correct_numbers if n not in answer]\n",
    "\n",
    "print(\"\\n問題ナンバー:\", q_id)\n",
    "print(\"正答:\", correct_numbers)\n",
    "print(\"回答:\", sorted(answer))\n",
    "print(\"一致:\", matches)\n",
    "print(\"不足:\", shortages)\n",
    "print(f\"正答率: {(len(matches)/metadata['length'])*100:.02f}%\")"
   ]
  }
 ],
 "metadata": {
  "kernelspec": {
   "display_name": "Python 3 (ipykernel)",
   "language": "python",
   "name": "python3"
  },
  "language_info": {
   "codemirror_mode": {
    "name": "ipython",
    "version": 3
   },
   "file_extension": ".py",
   "mimetype": "text/x-python",
   "name": "python",
   "nbconvert_exporter": "python",
   "pygments_lexer": "ipython3",
   "version": "3.9.12"
  }
 },
 "nbformat": 4,
 "nbformat_minor": 5
}
