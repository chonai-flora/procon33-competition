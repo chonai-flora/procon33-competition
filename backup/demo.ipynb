{
 "cells": [
  {
   "cell_type": "markdown",
   "id": "26222ca3",
   "metadata": {},
   "source": [
    "### 本番用メインファイルのサンプル\n",
    "pyスクリプトに書き換えてオートメーションするのとnotebook形式で実行するのどっちがいいかな...。とりあえずネットワークインタフェースだけモジュール化してあとはnotebookでやってみる。"
   ]
  },
  {
   "cell_type": "code",
   "execution_count": null,
   "id": "8ed0765c",
   "metadata": {},
   "outputs": [],
   "source": [
    "# ライブラリ読み込み\n",
    "import numpy as np\n",
    "import matplotlib.pyplot as plt\n",
    "import librosa\n",
    "import glob\n",
    "import json\n",
    "%matplotlib inline\n",
    "\n",
    "from typing import List\n",
    "from modules.network_interface import *\n",
    "\n",
    "sampling_rate = 30000"
   ]
  },
  {
   "cell_type": "code",
   "execution_count": null,
   "id": "420f3dfc",
   "metadata": {},
   "outputs": [],
   "source": [
    "# 音源読み込み\n",
    "def load_audio(file_name: str) -> np.ndarray:\n",
    "    return librosa.load(file_name, sr=sampling_rate, mono=True)[0]"
   ]
  },
  {
   "cell_type": "code",
   "execution_count": null,
   "id": "9c1c424f",
   "metadata": {},
   "outputs": [],
   "source": [
    "# 読みデータ一括読み込み\n",
    "def load_audios(lang: str) -> List[np.ndarray]:\n",
    "    if lang != 'J' and lang != 'E':\n",
    "        print(\"ファイルが見つかりません\")\n",
    "        return []\n",
    "    \n",
    "    audio_dir = './JKspeech/'\n",
    "    file_names = glob.glob(f'{audio_dir}/{lang}*.wav')\n",
    "    return [load_audio(file_name) for file_name in file_names]"
   ]
  },
  {
   "cell_type": "code",
   "execution_count": null,
   "id": "7f4fe1d9",
   "metadata": {},
   "outputs": [],
   "source": [
    "# 畳み込みで適合率を求める\n",
    "def get_precision(origin_init: np.ndarray, target_init: np.ndarray) -> np.ndarray:\n",
    "    # サイズ調整\n",
    "    start = np.abs(len(origin_init) - len(target_init)) / 180\n",
    "    start = np.min([int(start), 640])\n",
    "    end = np.min([len(origin_init), len(target_init)])\n",
    "    target = target_init[start:end]\n",
    "    origin = origin_init[start:end]\n",
    "\n",
    "    # フーリエ変換\n",
    "    fft_O = np.fft.fft(origin)\n",
    "    fft_T = np.fft.fft(target)\n",
    "\n",
    "    # 畳み込み処理\n",
    "    fft_Oc = np.conj(fft_O)        # 複素共役を取る\n",
    "    sigma_C = fft_Oc * fft_T       # 要素ごとに乗算\n",
    "    sigma_T = np.fft.ifft(sigma_C) # 逆フーリエ変換\n",
    "    sigma_T = np.abs(sigma_T)      # 絶対値を取りスカラー値に変換\n",
    "    \n",
    "    return np.max(sigma_T)         # スカラー値の最大値  "
   ]
  },
  {
   "cell_type": "code",
   "execution_count": null,
   "id": "7586c9c4",
   "metadata": {},
   "outputs": [],
   "source": [
    "# メタデータ読み込み\n",
    "f = open('./questions_ja/metadata.json', 'r', encoding=\"utf-8_sig\")\n",
    "data = json.load(f)\n",
    "f.close()"
   ]
  },
  {
   "cell_type": "code",
   "execution_count": null,
   "id": "158690c3",
   "metadata": {},
   "outputs": [],
   "source": [
    "sounds = load_audios('J')"
   ]
  },
  {
   "cell_type": "code",
   "execution_count": null,
   "id": "f719d358",
   "metadata": {},
   "outputs": [],
   "source": [
    "# problem_id = \"Q016_ja\"\n",
    "# chunk = load_audio(f\"./questions_ja/{problem_id}.wav\")"
   ]
  },
  {
   "cell_type": "code",
   "execution_count": null,
   "id": "ffeed1a8",
   "metadata": {},
   "outputs": [],
   "source": [
    "# precision = [get_precision(chunk, sound) for sound in sounds]"
   ]
  },
  {
   "cell_type": "code",
   "execution_count": null,
   "id": "beaf7e0b",
   "metadata": {},
   "outputs": [],
   "source": [
    "# problem_id = \"Q017_ja\"\n",
    "\n",
    "# metadata = data[problem_id]\n",
    "# N = metadata['length']\n",
    "# answer = []\n",
    "# for i in np.argsort(precision)[::-1][:N]:\n",
    "# #     print(i+1, result[i])\n",
    "#     answer.append(i+1)\n",
    "\n",
    "# correct_numbers = metadata['correct_numbers']\n",
    "# matches = [n for n in answer if n in correct_numbers]\n",
    "# shortages = [n for n in correct_numbers if n not in answer]\n",
    "\n",
    "# print(\"\\n問題ナンバー:\", problem_id)\n",
    "# print(\"正答:\", correct_numbers)\n",
    "# print(\"回答:\", sorted(answer))\n",
    "# print(\"一致:\", sorted(matches))\n",
    "# print(\"不足:\", sorted(shortages))\n",
    "# print(f\"正答率: {(len(matches) / N) * 100:.02f}%\")"
   ]
  },
  {
   "cell_type": "code",
   "execution_count": null,
   "id": "58fdb3a4",
   "metadata": {
    "scrolled": true
   },
   "outputs": [],
   "source": [
    "# print(\"Start\\n\")\n",
    "\n",
    "# for _ in range(18):\n",
    "#     problem_id = f\"Q0{_+1:02}_ja\"\n",
    "#     metadata = data[problem_id]\n",
    "#     N = metadata['length']\n",
    "#     fname = f\"./questions_ja/{problem_id}.wav\"\n",
    "#     chunk = load_audio(f\"./questions_ja/{problem_id}.wav\")\n",
    "\n",
    "#     precision = [get_precision(chunk, sound) for sound in sounds]\n",
    "\n",
    "#     answer = []\n",
    "#     for i in np.argsort(precision)[::-1][:N]:\n",
    "#         answer.append(i+1)\n",
    "\n",
    "#     correct_numbers = metadata['correct_numbers']\n",
    "#     matches = [n for n in answer if n in correct_numbers]\n",
    "    \n",
    "#     rate = len(matches) / N\n",
    "#     if rate == 1:\n",
    "#         continue\n",
    "\n",
    "#     print(\"音声数:\", N)\n",
    "#     print(f\"正答率: {rate*100:.02f}%\\n\")\n",
    "    \n",
    "# print(\"Done\")"
   ]
  },
  {
   "cell_type": "code",
   "execution_count": null,
   "id": "85be5194",
   "metadata": {},
   "outputs": [],
   "source": []
  }
 ],
 "metadata": {
  "kernelspec": {
   "display_name": "Python 3 (ipykernel)",
   "language": "python",
   "name": "python3"
  },
  "language_info": {
   "codemirror_mode": {
    "name": "ipython",
    "version": 3
   },
   "file_extension": ".py",
   "mimetype": "text/x-python",
   "name": "python",
   "nbconvert_exporter": "python",
   "pygments_lexer": "ipython3",
   "version": "3.9.12"
  }
 },
 "nbformat": 4,
 "nbformat_minor": 5
}
