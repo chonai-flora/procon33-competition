{
 "cells": [
  {
   "cell_type": "code",
   "execution_count": 1,
   "id": "551b0254",
   "metadata": {},
   "outputs": [
    {
     "name": "stderr",
     "output_type": "stream",
     "text": [
      "C:\\Users\\sysken\\anaconda3\\lib\\site-packages\\pydub\\utils.py:170: RuntimeWarning: Couldn't find ffmpeg or avconv - defaulting to ffmpeg, but may not work\n",
      "  warn(\"Couldn't find ffmpeg or avconv - defaulting to ffmpeg, but may not work\", RuntimeWarning)\n"
     ]
    }
   ],
   "source": [
    "# ライブラリ読み込み\n",
    "import numpy as np\n",
    "import matplotlib.pyplot as plt\n",
    "import librosa\n",
    "import glob\n",
    "import json\n",
    "from pydub import AudioSegment\n",
    "from IPython.display import Audio\n",
    "%matplotlib inline\n",
    "\n",
    "from typing import List\n",
    "from modules.network_interface import *\n",
    "\n",
    "sampling_rate = 50000"
   ]
  },
  {
   "cell_type": "code",
   "execution_count": 2,
   "id": "b361ecc9",
   "metadata": {},
   "outputs": [],
   "source": [
    "# 音源読み込み\n",
    "def load_audio(file_name: str) -> np.ndarray:\n",
    "    return librosa.load(file_name, sr=sampling_rate, mono=True)[0]\n",
    "\n",
    "\n",
    "# 読みデータ一括読み込み\n",
    "def load_audios(lang: str) -> List[np.ndarray]:\n",
    "    if lang != 'J' and lang != 'E':\n",
    "        print(\"ファイルが見つかりません\")\n",
    "        return []\n",
    "    \n",
    "    audio_dir = './JKspeech/'\n",
    "    file_names = glob.glob(f'{audio_dir}/{lang}*.wav')\n",
    "    return [load_audio(file_name) for file_name in file_names]\n",
    "\n",
    "\n",
    "# AudioSegmentに変換\n",
    "def to_AudioSegment(file_name):\n",
    "    try:\n",
    "        audio_segment = AudioSegment.from_file(file_name, format=\"wav\")\n",
    "        return audio_segment\n",
    "    except FileNotFoundError as e:\n",
    "        print(e)\n",
    "    return None"
   ]
  },
  {
   "cell_type": "code",
   "execution_count": 3,
   "id": "8a8aee87",
   "metadata": {},
   "outputs": [],
   "source": [
    "def kana_to_number(kana):\n",
    "    kana_ = \"あいうえおかきくけこさしすせそたちつてとなにぬねのはひふへほまみむめもやゆよらりるれろわをん\"\n",
    "    return kana_.index(kana) + 1\n",
    "\n",
    "def number_to_kana(number):\n",
    "    kana_ = \"あいうえおかきくけこさしすせそたちつてとなにぬねのはひふへほまみむめもやゆよらりるれろわをん\"\n",
    "    return kana_[number - 1]"
   ]
  },
  {
   "cell_type": "code",
   "execution_count": 4,
   "id": "ac7f7a79",
   "metadata": {},
   "outputs": [
    {
     "name": "stdout",
     "output_type": "stream",
     "text": [
      "Done\n"
     ]
    }
   ],
   "source": [
    "# セットアップ\n",
    "ja_sounds = load_audios('J')\n",
    "en_sounds = load_audios('E')\n",
    "submitted = []\n",
    "\n",
    "print(\"Done\")"
   ]
  },
  {
   "cell_type": "markdown",
   "id": "93d72bbc",
   "metadata": {},
   "source": [
    "---\n",
    "##### ここまで済ませておく\n",
    "---"
   ]
  },
  {
   "cell_type": "code",
   "execution_count": 90,
   "id": "3b43d8b2",
   "metadata": {},
   "outputs": [],
   "source": [
    "# wav設定\n",
    "N = 3\n",
    "ID = \"敗者復活戦1\"\n",
    "file_path = f\"./problems/{ID}/\"\n",
    "chunks = [f\"problem{i+1}.wav\" for i in range(N)]\n",
    "# 分割データ連結\n",
    "seg = to_AudioSegment(file_path + chunks.pop())[100:]\n",
    "if N > 1:\n",
    "    for chunk in chunks:\n",
    "        seg += to_AudioSegment(file_path + chunk)[0:]\n",
    "    \n",
    "seg.export(f\"./problems/{ID}/tmp.wav\", format=\"wav\")\n",
    "origin = load_audio(f\"./problems/{ID}/tmp.wav\")"
   ]
  },
  {
   "cell_type": "code",
   "execution_count": 99,
   "id": "a4ca2d30",
   "metadata": {},
   "outputs": [],
   "source": [
    "# # 畳み込みで適合率を求める\n",
    "# def get_precision(origin_init: np.ndarray, target_init: np.ndarray) -> np.ndarray:\n",
    "#     # サイズ調整\n",
    "#     start = int(np.abs(len(origin_init) - len(target_init)) / 500)\n",
    "#     start = 500\n",
    "#     end = np.min([len(origin_init), len(target_init)]) - 500\n",
    "#     target = target_init[start:end]\n",
    "#     origin = origin_init[start:end]\n",
    "    \n",
    "#     # フーリエ変換\n",
    "#     fft_O = np.fft.fft(origin)\n",
    "#     fft_T = np.fft.fft(target)\n",
    "\n",
    "#     # 畳み込み処理\n",
    "#     fft_Oc = np.conj(fft_O)        # 複素共役を取る\n",
    "#     sigma_C = fft_Oc * fft_T       # 要素ごとに乗算\n",
    "#     sigma_T = np.fft.ifft(sigma_C) # 逆フーリエ変換\n",
    "#     sigma_T = np.abs(sigma_T)      # 絶対値を取りスカラー値に変換\n",
    "#     return np.max(sigma_T)         # スカラー値の最大値 \n",
    "\n",
    "# 畳み込みで適合率を求める\n",
    "def get_precision(origin_init: np.ndarray, target_init: np.ndarray) -> np.ndarray:\n",
    "    # サイズ調整\n",
    "    start = np.abs(len(origin_init) - len(target_init)) / 180\n",
    "    start = np.min([int(start), 640])\n",
    "    end = np.min([len(origin_init), len(target_init)])\n",
    "    target = target_init[start:end]\n",
    "    origin = origin_init[start:end]\n",
    "\n",
    "    # フーリエ変換\n",
    "    fft_O = np.fft.fft(origin)\n",
    "    fft_T = np.fft.fft(target)\n",
    "\n",
    "    # 畳み込み処理\n",
    "    fft_Oc = np.conj(fft_O)        # 複素共役を取る\n",
    "    sigma_C = fft_Oc * fft_T       # 要素ごとに乗算\n",
    "    sigma_T = np.fft.ifft(sigma_C) # 逆フーリエ変換\n",
    "    sigma_T = np.abs(sigma_T)      # 絶対値を取りスカラー値に変換\n",
    "    \n",
    "    return np.max(sigma_T)         # スカラー値の最大値 "
   ]
  },
  {
   "cell_type": "code",
   "execution_count": 101,
   "id": "e1833831",
   "metadata": {},
   "outputs": [],
   "source": [
    "# 畳み込み\n",
    "precision = [get_precision(origin, sound) \n",
    "             for sound in ja_sounds + en_sounds]"
   ]
  },
  {
   "cell_type": "code",
   "execution_count": 102,
   "id": "b677b8b0",
   "metadata": {
    "scrolled": true
   },
   "outputs": [
    {
     "name": "stdout",
     "output_type": "stream",
     "text": [
      "1 253.08586879086056\n",
      "20 192.89180526846766\n",
      "30 151.1527751449203\n",
      "16 141.64202959926232\n",
      "24 114.40768105912495\n",
      "28 110.3082422502296\n"
     ]
    }
   ],
   "source": [
    "# ソート\n",
    "N = 6\n",
    "answers = []\n",
    "for i in np.argsort(precision)[::-1][:N]:\n",
    "    print((i%44)+1, precision[i])\n",
    "    answers.append((i%44)+1)\n",
    "    \n",
    "answers = sorted(answers)\n",
    "correct_numbers = [kana_to_number(c) for c in \"えさとねらりろ\"]\n",
    "matches = [n for n in answers if n in correct_numbers]\n",
    "shortages = [n for n in correct_numbers if n not in answers]\n",
    "\n",
    "# print(\"正答:\", correct_numbers)\n",
    "# print(\"回答:\", answers)\n",
    "# print(\"一致:\", sorted(matches))\n",
    "# print(\"不足:\", sorted(shortages))\n",
    "# print(f\"正答率: {(len(matches) / N) * 100:.02f}%\")"
   ]
  },
  {
   "cell_type": "code",
   "execution_count": null,
   "id": "c363ea59",
   "metadata": {},
   "outputs": [],
   "source": [
    "# 提出\n",
    "formatted_answer = list(map(lambda n: f\"{n:02d}\", answers))\n",
    "res = await answer(problem[\"id\"], formatted_answer)\n",
    "\n",
    "submitted.append(formatted_answer)\n",
    "print(formatted_answer)\n",
    "print(res)\n",
    "print(submitted)"
   ]
  },
  {
   "cell_type": "markdown",
   "id": "661a8216",
   "metadata": {},
   "source": [
    "---"
   ]
  },
  {
   "cell_type": "code",
   "execution_count": null,
   "id": "2a8f3903",
   "metadata": {},
   "outputs": [],
   "source": [
    "# # wav設定\n",
    "# chunks = chunks_init.copy()\n",
    "# chunks.reverse()\n",
    "    \n",
    "# # 分割データ連結\n",
    "# seg = to_AudioSegment(file_path + chunks.pop())\n",
    "# if N > 1:\n",
    "#     for chunk in chunks:\n",
    "#         seg += to_AudioSegment(file_path + chunk)\n",
    "    \n",
    "# seg.export(\"./problems/tmp.wav\", format=\"wav\")\n",
    "# origin = load_audio(\"./problems/tmp.wav\")\n",
    "\n",
    "# # 畳み込み\n",
    "# precision = [get_precision(origin, sound) \n",
    "#              for sound in ja_sounds + en_sounds]\n",
    "    \n",
    "# # ソート\n",
    "# answers = []\n",
    "# for i in np.argsort(precision)[::-1][:problem[\"data\"]]:\n",
    "#     print((i%44)+1, precision[i])\n",
    "#     answers.append((i%44)+1)\n",
    "\n",
    "# answers = sorted(list(set(answers)))\n",
    "# print(answers)"
   ]
  }
 ],
 "metadata": {
  "kernelspec": {
   "display_name": "Python 3 (ipykernel)",
   "language": "python",
   "name": "python3"
  },
  "language_info": {
   "codemirror_mode": {
    "name": "ipython",
    "version": 3
   },
   "file_extension": ".py",
   "mimetype": "text/x-python",
   "name": "python",
   "nbconvert_exporter": "python",
   "pygments_lexer": "ipython3",
   "version": "3.9.12"
  }
 },
 "nbformat": 4,
 "nbformat_minor": 5
}
