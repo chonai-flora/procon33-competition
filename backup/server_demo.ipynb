{
 "cells": [
  {
   "cell_type": "code",
   "execution_count": null,
   "id": "48c72b2e",
   "metadata": {},
   "outputs": [],
   "source": [
    "# ライブラリ読み込み\n",
    "import numpy as np\n",
    "import matplotlib.pyplot as plt\n",
    "import librosa\n",
    "import glob\n",
    "import json\n",
    "import os\n",
    "from IPython.display import Audio\n",
    "%matplotlib inline\n",
    "\n",
    "from typing import List\n",
    "from modules.network_interface import *\n",
    "\n",
    "sampling_rate = 30000"
   ]
  },
  {
   "cell_type": "code",
   "execution_count": null,
   "id": "b7536d60",
   "metadata": {},
   "outputs": [],
   "source": [
    "problem = await get_problem()\n",
    "print(problem)"
   ]
  },
  {
   "cell_type": "code",
   "execution_count": null,
   "id": "1f6f3cd3",
   "metadata": {},
   "outputs": [],
   "source": [
    "chunks = await get_chunk(1)\n",
    "\n",
    "file_name = chunks[\"chunks\"][0]\n",
    "file_dir = \"./problems/\"                   \n",
    "sound = await get_file(file_name, file_dir)"
   ]
  },
  {
   "cell_type": "code",
   "execution_count": null,
   "id": "f71eaf9a",
   "metadata": {},
   "outputs": [],
   "source": [
    "sound_array = np.frombuffer(sound, dtype=np.int16)\n",
    "Audio(file_dir + file_name, rate=sound_array[1])"
   ]
  },
  {
   "cell_type": "code",
   "execution_count": null,
   "id": "8cb31a2f",
   "metadata": {},
   "outputs": [],
   "source": [
    "status = await answer(problem[\"id\"], [\"01\", \"02\"])\n",
    "\n",
    "print(status)"
   ]
  }
 ],
 "metadata": {
  "kernelspec": {
   "display_name": "Python 3",
   "language": "python",
   "name": "python3"
  },
  "language_info": {
   "codemirror_mode": {
    "name": "ipython",
    "version": 3
   },
   "file_extension": ".py",
   "mimetype": "text/x-python",
   "name": "python",
   "nbconvert_exporter": "python",
   "pygments_lexer": "ipython3",
   "version": "3.8.8"
  }
 },
 "nbformat": 4,
 "nbformat_minor": 5
}
