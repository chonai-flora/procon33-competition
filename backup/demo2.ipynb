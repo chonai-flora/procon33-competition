{
 "cells": [
  {
   "cell_type": "code",
   "execution_count": 5,
   "id": "551b0254",
   "metadata": {},
   "outputs": [],
   "source": [
    "# ライブラリ読み込み\n",
    "import numpy as np\n",
    "import matplotlib.pyplot as plt\n",
    "import librosa\n",
    "import glob\n",
    "import json\n",
    "from pydub import AudioSegment\n",
    "from IPython.display import Audio\n",
    "%matplotlib inline\n",
    "\n",
    "from typing import List\n",
    "from modules.network_interface import *\n",
    "\n",
    "sampling_rate = 30000"
   ]
  },
  {
   "cell_type": "code",
   "execution_count": 2,
   "id": "b361ecc9",
   "metadata": {},
   "outputs": [],
   "source": [
    "# 音源読み込み\n",
    "def load_audio(file_name: str) -> np.ndarray:\n",
    "    return librosa.load(file_name, sr=sampling_rate, mono=True)[0]\n",
    "\n",
    "\n",
    "# 読みデータ一括読み込み\n",
    "def load_audios(lang: str) -> List[np.ndarray]:\n",
    "    if lang != 'J' and lang != 'E':\n",
    "        print(\"ファイルが見つかりません\")\n",
    "        return []\n",
    "    \n",
    "    audio_dir = './JKspeech/'\n",
    "    file_names = glob.glob(f'{audio_dir}/{lang}*.wav')\n",
    "    return [load_audio(file_name) for file_name in file_names]\n",
    "\n",
    "# AudioSegmentに変換\n",
    "def to_AudioSegment(file_name):\n",
    "    try:\n",
    "        audio_segment = AudioSegment.from_file(file_name, format=\"wav\")\n",
    "        return audio_segment\n",
    "    except FileNotFoundError as e:\n",
    "        print(e)\n",
    "    return None\n",
    "\n",
    "\n",
    "# 畳み込みで適合率を求める\n",
    "def get_precision(origin_init: np.ndarray, target_init: np.ndarray) -> np.ndarray:\n",
    "    # サイズ調整\n",
    "    start = np.abs(len(origin_init) - len(target_init)) / 180\n",
    "    start = np.min([int(start), 640])\n",
    "    end = np.min([len(origin_init), len(target_init)])\n",
    "    target = target_init[start:end]\n",
    "    origin = origin_init[start:end]\n",
    "\n",
    "    # フーリエ変換\n",
    "    fft_O = np.fft.fft(origin)\n",
    "    fft_T = np.fft.fft(target)\n",
    "\n",
    "    # 畳み込み処理\n",
    "    fft_Oc = np.conj(fft_O)        # 複素共役を取る\n",
    "    sigma_C = fft_Oc * fft_T       # 要素ごとに乗算\n",
    "    sigma_T = np.fft.ifft(sigma_C) # 逆フーリエ変換\n",
    "    sigma_T = np.abs(sigma_T)      # 絶対値を取りスカラー値に変換\n",
    "    \n",
    "    return np.max(sigma_T)         # スカラー値の最大値 "
   ]
  },
  {
   "cell_type": "code",
   "execution_count": 6,
   "id": "ac7f7a79",
   "metadata": {},
   "outputs": [],
   "source": [
    "# セットアップ\n",
    "ja_sounds = load_audios('J')\n",
    "en_sounds = load_audios('E')"
   ]
  },
  {
   "cell_type": "markdown",
   "id": "9e21a76e",
   "metadata": {},
   "source": [
    "---\n",
    "##### ここまで済ませておく\n",
    "---"
   ]
  },
  {
   "cell_type": "code",
   "execution_count": null,
   "id": "a549a389",
   "metadata": {},
   "outputs": [],
   "source": [
    "# 試合情報・問題情報の取得\n",
    "match = await get_match()\n",
    "print(match)\n",
    "\n",
    "problem = await get_problem()\n",
    "print(problem)"
   ]
  },
  {
   "cell_type": "code",
   "execution_count": null,
   "id": "adc9207c",
   "metadata": {},
   "outputs": [],
   "source": [
    "# 制限時間表示\n",
    "sec = problem[\"time_limit\"]\n",
    "print(f\"制限時間: {int(sec/60)}分{sec%60:02d}秒\")\n",
    "\n",
    "# 取得する分割データの指定\n",
    "chunks = await get_chunk(1)\n",
    "print(chunks)"
   ]
  },
  {
   "cell_type": "code",
   "execution_count": null,
   "id": "8c2cb637",
   "metadata": {},
   "outputs": [],
   "source": [
    "# wavの取得\n",
    "N = 2 # 取得する分割データ数\n",
    "\n",
    "file_path = \"./problems/\"\n",
    "chunks = (await get_chunk(N))[\"chunks\"]\n",
    "for chunk in chunks:\n",
    "    await get_file(chunk, file_path)"
   ]
  },
  {
   "cell_type": "code",
   "execution_count": null,
   "id": "05e12de0",
   "metadata": {},
   "outputs": [],
   "source": [
    "# 分割データ連結\n",
    "file_path=\"./problems/\"\n",
    "N=5\n",
    "chunks=[f\"problem{i+1}.wav\" for i in range(5)]\n",
    "seg = to_AudioSegment(file_path + chunks.pop())\n",
    "if N > 1:\n",
    "    for chunk in chunks:\n",
    "        seg += to_AudioSegment(file_path + chunk)\n",
    "    \n",
    "seg.export(\"./problems/tmp.wav\", format=\"wav\")\n",
    "origin = load_audio(\"./problems/tmp.wav\")"
   ]
  },
  {
   "cell_type": "code",
   "execution_count": null,
   "id": "8e9aa28f",
   "metadata": {},
   "outputs": [],
   "source": [
    "# 畳み込み\n",
    "precision = [get_precision(origin, sound) \n",
    "             for sound in ja_sounds + en_sounds]"
   ]
  },
  {
   "cell_type": "code",
   "execution_count": null,
   "id": "a1223433",
   "metadata": {},
   "outputs": [],
   "source": [
    "# ソート\n",
    "answers = []\n",
    "for i in np.argsort(precision)[::-1][:problem[\"data\"]]:\n",
    "    print((i%44)+1, precision[i])\n",
    "    answers.append((i%44)+1)\n",
    "\n",
    "answers = sorted(list(set(answers)))\n",
    "print(answers)"
   ]
  },
  {
   "cell_type": "code",
   "execution_count": null,
   "id": "c363ea59",
   "metadata": {},
   "outputs": [],
   "source": [
    "# 提出\n",
    "formatted_answer = list(map(lambda n: f\"{n:02d}\", answers))\n",
    "res = await answer(problem[\"id\"], formatted_answer)\n",
    "\n",
    "print(formatted_answer)\n",
    "print(res)"
   ]
  }
 ],
 "metadata": {
  "kernelspec": {
   "display_name": "Python 3 (ipykernel)",
   "language": "python",
   "name": "python3"
  },
  "language_info": {
   "codemirror_mode": {
    "name": "ipython",
    "version": 3
   },
   "file_extension": ".py",
   "mimetype": "text/x-python",
   "name": "python",
   "nbconvert_exporter": "python",
   "pygments_lexer": "ipython3",
   "version": "3.9.12"
  }
 },
 "nbformat": 4,
 "nbformat_minor": 5
}
