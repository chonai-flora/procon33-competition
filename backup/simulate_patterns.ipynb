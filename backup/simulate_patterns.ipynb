{
 "cells": [
  {
   "cell_type": "code",
   "execution_count": 1,
   "id": "8619fae3",
   "metadata": {},
   "outputs": [],
   "source": [
    "import numpy as np\n",
    "import matplotlib.pyplot as plt\n",
    "import librosa\n",
    "import glob\n",
    "import json\n",
    "%matplotlib inline\n",
    "\n",
    "size = 40000"
   ]
  },
  {
   "cell_type": "code",
   "execution_count": null,
   "id": "5e593f41",
   "metadata": {},
   "outputs": [],
   "source": [
    "# 音源の読み込み\n",
    "audio_dir = '../JKspeech/'\n",
    "file_names = glob.glob(f'{audio_dir}/J*.wav')\n",
    "sounds = [librosa.load(file_name, sr=size, mono=True)[0] \n",
    "          for file_name in file_names]\n",
    "    \n",
    "print(\"Done\")"
   ]
  },
  {
   "cell_type": "code",
   "execution_count": null,
   "id": "d9712216",
   "metadata": {},
   "outputs": [],
   "source": [
    "def audio_matching(origin_init, targets_init):\n",
    "    result = []\n",
    "    for target_init in targets_init:\n",
    "        # サイズ調整\n",
    "        start = np.abs(len(origin_init) - len(target_init)) / 180\n",
    "        start = np.min([int(start), 640])\n",
    "        end = np.min([len(origin_init), len(target_init)])\n",
    "        target = target_init[start:end]\n",
    "        origin = origin_init[start:end]\n",
    "    \n",
    "        # フーリエ変換\n",
    "        fft_O = np.fft.fft(origin)\n",
    "        fft_T = np.fft.fft(target)\n",
    "        \n",
    "        # 畳み込み処理\n",
    "        fft_Oc = np.conj(fft_O)        # 複素共役を取る\n",
    "        sigma_C = fft_Oc * fft_T       # 要素ごとに乗算\n",
    "        sigma_T = np.fft.ifft(sigma_C) # 逆フーリエ変換\n",
    "        sigma_T = np.abs(sigma_T)      # 絶対値を取りスカラー値に変換\n",
    "        result.append(np.max(sigma_T)) # スカラー値の最大値をappend\n",
    "        \n",
    "    return np.array(result)"
   ]
  },
  {
   "cell_type": "code",
   "execution_count": null,
   "id": "a52c530d",
   "metadata": {},
   "outputs": [],
   "source": [
    "# メタデータ読み込み\n",
    "f = open('../questions_ja/metadata.json', 'r', encoding=\"utf-8_sig\")\n",
    "data = json.load(f)\n",
    "f.close()"
   ]
  },
  {
   "cell_type": "code",
   "execution_count": 2,
   "id": "997036ce",
   "metadata": {},
   "outputs": [
    {
     "name": "stdout",
     "output_type": "stream",
     "text": [
      "<class 'numpy.ndarray'>\n"
     ]
    }
   ],
   "source": [
    "Q_id = \"Q017_ja\"\n",
    "fname = f\"../questions_ja/{Q_id}.wav\"\n",
    "sound = librosa.load(fname, sr=size, mono=True)[0]\n",
    "\n",
    "result = audio_matching(sound, sounds)\n",
    "print(\"Done\")\n",
    "\n",
    "# from IPython.display import Audio\n",
    "# Audio(fname, rate=sound[1])"
   ]
  },
  {
   "cell_type": "code",
   "execution_count": null,
   "id": "9cf6e7c2",
   "metadata": {},
   "outputs": [],
   "source": [
    "metadata = data[Q_id]\n",
    "N = metadata['length']\n",
    "answer = []\n",
    "for i in np.argsort(result)[::-1][:N]:\n",
    "#     print(i+1, result[i])\n",
    "    answer.append(i+1)\n",
    "\n",
    "correct_numbers = metadata['correct_numbers']\n",
    "matches = [n for n in answer if n in correct_numbers]\n",
    "shortages = [n for n in correct_numbers if n not in answer]\n",
    "\n",
    "print(\"\\n問題ナンバー:\", Q_id)\n",
    "print(\"正答:\", correct_numbers)\n",
    "print(\"回答:\", sorted(answer))\n",
    "print(\"一致:\", sorted(matches))\n",
    "print(\"不足:\", sorted(shortages))\n",
    "print(f\"正答率: {(len(matches) / N) * 100:.02f}%\")"
   ]
  },
  {
   "cell_type": "code",
   "execution_count": null,
   "id": "5bcc0aaa",
   "metadata": {
    "scrolled": true
   },
   "outputs": [],
   "source": [
    "# 複数シミュレーション\n",
    "\n",
    "# f = open('../questions_ja/metadata.json', 'r', encoding=\"utf-8_sig\")\n",
    "# data = json.load(f)\n",
    "# f.close()\n",
    "\n",
    "print(\"Start\\n\")\n",
    "\n",
    "for _ in range(18):\n",
    "    Q_id = f\"Q0{_+1:02}_ja\"\n",
    "    metadata = data[Q_id]\n",
    "    N = metadata['length']\n",
    "    fname = f\"../questions_ja/{Q_id}.wav\"\n",
    "    sound = librosa.load(fname, sr=size, mono=True)[0]\n",
    "\n",
    "    result = audio_matching(sound, sounds)\n",
    "\n",
    "    answer = []\n",
    "    for i in np.argsort(result)[::-1][:N]:\n",
    "        answer.append(i+1)\n",
    "\n",
    "    correct_numbers = metadata['correct_numbers']\n",
    "    matches = [n for n in answer if n in correct_numbers]\n",
    "    \n",
    "    rate = len(matches) / N\n",
    "    if rate == 1:\n",
    "        continue\n",
    "\n",
    "    print(\"音声数:\", N)\n",
    "    print(f\"正答率: {rate*100:.02f}%\\n\")\n",
    "    \n",
    "print(\"Done\")"
   ]
  },
  {
   "cell_type": "code",
   "execution_count": null,
   "id": "fbdeeed2",
   "metadata": {},
   "outputs": [],
   "source": [
    "# # サンプリングレートシミュレーション\n",
    "\n",
    "# print(\"Start\\n\")\n",
    "\n",
    "# for sr in range(30000, 50000, 2000):\n",
    "    \n",
    "#     audio_dir = '../JKspeech/'\n",
    "#     file_names = glob.glob(f'{audio_dir}/J*.wav')\n",
    "#     sounds = [librosa.load(file_name, sr=sr, mono=True)[0] \n",
    "#           for file_name in file_names]\n",
    "#     print(\"\\nsr:\", sr)\n",
    "    \n",
    "#     for _ in [5, 9]:\n",
    "#         Q_id = f\"Q0{_+1:02}_ja\"\n",
    "#         metadata = data[Q_id]\n",
    "#         N = metadata['length']\n",
    "#         fname = f\"../questions_ja/{Q_id}.wav\"\n",
    "#         sound = librosa.load(fname, sr=sr, mono=True)[0]\n",
    "\n",
    "#         result = audio_matching(sound, sounds)\n",
    "\n",
    "#         answer = []\n",
    "#         for i in np.argsort(result)[::-1][:N]:\n",
    "#             answer.append(i+1)\n",
    "\n",
    "#         correct_numbers = metadata['correct_numbers']\n",
    "#         matches = [n for n in answer if n in correct_numbers]\n",
    "\n",
    "#         rate = len(matches) / N\n",
    "#         if rate == 1:\n",
    "#             continue\n",
    "\n",
    "#         print(f\"{N} {rate*100:.02f}%\")\n",
    "\n",
    "# print(\"Done\")"
   ]
  }
 ],
 "metadata": {
  "kernelspec": {
   "display_name": "Python 3 (ipykernel)",
   "language": "python",
   "name": "python3"
  },
  "language_info": {
   "codemirror_mode": {
    "name": "ipython",
    "version": 3
   },
   "file_extension": ".py",
   "mimetype": "text/x-python",
   "name": "python",
   "nbconvert_exporter": "python",
   "pygments_lexer": "ipython3",
   "version": "3.9.12"
  }
 },
 "nbformat": 4,
 "nbformat_minor": 5
}
