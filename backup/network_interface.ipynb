{
 "cells": [
  {
   "cell_type": "code",
   "execution_count": null,
   "id": "1a3262e9",
   "metadata": {},
   "outputs": [],
   "source": [
    "from __future__ import annotations\n",
    "import numpy as np\n",
    "import asyncio\n",
    "import aiohttp\n",
    "import requests\n",
    "import wave\n",
    "import json\n",
    "import os\n",
    "import librosa\n",
    "from IPython.display import Audio"
   ]
  },
  {
   "cell_type": "code",
   "execution_count": null,
   "id": "0334edf8",
   "metadata": {},
   "outputs": [],
   "source": [
    "HOST = ''\n",
    "TOKEN = ''\n",
    "HEADER = {\n",
    "    'procon-token': TOKEN\n",
    "}"
   ]
  },
  {
   "cell_type": "code",
   "execution_count": null,
   "id": "d4f00ecd",
   "metadata": {},
   "outputs": [],
   "source": [
    "async def get_match():\n",
    "    # problems: 試合中の問題数。整数\n",
    "    # bonus_factor: 使用した分割数に対するボーナス係数の配列。n番目がn個利用場合のボーナス係数。\n",
    "    # penalty: 変更札に適用される係数。整数\n",
    "\n",
    "    async with aiohttp.ClientSession() as session:\n",
    "        try:\n",
    "            async with session.get(HOST + '/match', headers=HEADER, ssl=True) as res:\n",
    "                if res.status == requests.codes.ok:\n",
    "                    data = await res.json()\n",
    "                    success = True\n",
    "                else:\n",
    "                    data = await res.text()\n",
    "                    success = False\n",
    "                return (success, data)\n",
    "        except Exception as err:\n",
    "            print(err)"
   ]
  },
  {
   "cell_type": "code",
   "execution_count": null,
   "id": "93beb5c2",
   "metadata": {},
   "outputs": [],
   "source": [
    "async def get_problem():\n",
    "    # id: 問題ID\n",
    "    # chunks: 分割数。整数\n",
    "    # starts_at: 開始時間のunixtime\n",
    "    # time_limit: 制限時間。単位は秒。整数\n",
    "    # data: 重ね合わせ数。整数\n",
    "    \n",
    "    async with aiohttp.ClientSession() as session:\n",
    "        try:\n",
    "            async with session.get(HOST + '/problem', headers=HEADER, ssl=True) as res:\n",
    "                if res.status == requests.codes.ok:\n",
    "                    data = await res.json()\n",
    "                    success = True\n",
    "                else:\n",
    "                    data = await res.text()\n",
    "                    success = False\n",
    "                return (success, data)\n",
    "        except Exception as err:\n",
    "            print(err)"
   ]
  },
  {
   "cell_type": "code",
   "execution_count": null,
   "id": "f79b0f29",
   "metadata": {},
   "outputs": [],
   "source": [
    "async def get_chunk(n_chunk):\n",
    "    # chunks: 各分割データのファイル名の配列\n",
    "\n",
    "    async with aiohttp.ClientSession() as session:\n",
    "        try:\n",
    "            async with session.post(HOST + '/problem/chunks?n=' + str(n_chunk), headers=HEADER, ssl=True) as res:\n",
    "                if res.status == requests.codes.ok:\n",
    "                    data = await res.json()\n",
    "                    success = True\n",
    "                else:\n",
    "                    data = await res.text()\n",
    "                    success = False\n",
    "                return (success, data)\n",
    "        except Exception as err:\n",
    "            print(err)"
   ]
  },
  {
   "cell_type": "code",
   "execution_count": null,
   "id": "6c20eac6",
   "metadata": {},
   "outputs": [],
   "source": [
    "async def get_file(file_name, save_path):\n",
    "    \n",
    "    async with aiohttp.ClientSession() as session:\n",
    "        try:\n",
    "            async with session.get(HOST + '/problem/chunks/' + file_name, headers=HEADER, ssl=True) as res:\n",
    "                if res.status == requests.codes.ok:\n",
    "                    data = await res.read()\n",
    "                    success = True\n",
    "                    with wave.open(save_path + file_name, mode='wb') as f:\n",
    "                        f.setnchannels(1)\n",
    "                        f.setsampwidth(2)\n",
    "                        f.setframerate(48000)\n",
    "                        f.writeframes(bytes(data))\n",
    "                else:\n",
    "                    data = await res.text()\n",
    "                    success = False\n",
    "                return (success, data)\n",
    "        except Exception as err:\n",
    "            print(err)"
   ]
  },
  {
   "cell_type": "code",
   "execution_count": null,
   "id": "1242aea7",
   "metadata": {},
   "outputs": [],
   "source": [
    "async def answer(problem_id, answers):\n",
    "    # problem_id: 問題ID\n",
    "    # answers: 解凍された絵札のIDの配列\n",
    "    # accepted_at: 回答を受信した日時のunix time\n",
    "    body = json.dumps({'problem_id': problem_id, 'answers': answers})\n",
    "\n",
    "    async with aiohttp.ClientSession() as session:\n",
    "        try:\n",
    "            async with session.post(HOST + '/problem', data=body, headers=HEADER, ssl=True) as res:\n",
    "                if res.status == requests.codes.ok:\n",
    "                    data = await res.json()\n",
    "                    success = True\n",
    "                else:\n",
    "                    data = await res.text()\n",
    "                    success = False\n",
    "                return (success, data)\n",
    "        except Exception as err:\n",
    "            print(err)"
   ]
  },
  {
   "cell_type": "code",
   "execution_count": null,
   "id": "c9628a44",
   "metadata": {},
   "outputs": [],
   "source": [
    "problem = await get_problem()\n",
    "print(problem)"
   ]
  },
  {
   "cell_type": "code",
   "execution_count": null,
   "id": "993b0b62",
   "metadata": {},
   "outputs": [],
   "source": [
    "print(problem[1]['id'])"
   ]
  },
  {
   "cell_type": "code",
   "execution_count": null,
   "id": "4228bd1c",
   "metadata": {},
   "outputs": [],
   "source": [
    "chunks = await get_chunk(1)\n",
    "print(chunks)\n",
    "file_name1 = chunks[1][\"chunks\"][0]\n",
    "file_name2 = problem[1]['id'] + \".wav\"\n",
    "print(file_name1)\n",
    "print(file_name2)"
   ]
  },
  {
   "cell_type": "code",
   "execution_count": null,
   "id": "b84e7e9c",
   "metadata": {},
   "outputs": [],
   "source": [
    "file_dir = \"../problems/\"\n",
    "sound = await get_file(file_name1, file_dir)\n",
    "os.rename(file_dir + file_name1, file_dir + file_name2)\n",
    "print(sound[0])"
   ]
  },
  {
   "cell_type": "code",
   "execution_count": null,
   "id": "19f29c66",
   "metadata": {},
   "outputs": [],
   "source": [
    "sound_array = np.frombuffer(sound[1], dtype=np.int16)\n",
    "Audio(file_dir + file_name2, rate=sound_array[1])\n",
    "# print(sound_array[1])"
   ]
  },
  {
   "cell_type": "code",
   "execution_count": null,
   "id": "bcf45d9c",
   "metadata": {},
   "outputs": [],
   "source": [
    "# {\n",
    "#     'get_match': (get_match),\n",
    "#     'get_problem': (get_problem),\n",
    "#     'get_chunk': (get_chunk),\n",
    "#     'get_file': (get_file),\n",
    "#     'submit answer': (answer),\n",
    "#     'predict': [\"01\", \"02\", \"03\"]\n",
    "# }"
   ]
  }
 ],
 "metadata": {
  "kernelspec": {
   "display_name": "Python 3",
   "language": "python",
   "name": "python3"
  },
  "language_info": {
   "codemirror_mode": {
    "name": "ipython",
    "version": 3
   },
   "file_extension": ".py",
   "mimetype": "text/x-python",
   "name": "python",
   "nbconvert_exporter": "python",
   "pygments_lexer": "ipython3",
   "version": "3.8.8"
  }
 },
 "nbformat": 4,
 "nbformat_minor": 5
}
